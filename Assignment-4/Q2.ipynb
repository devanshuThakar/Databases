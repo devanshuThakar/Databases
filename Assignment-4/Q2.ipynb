{
 "cells": [
  {
   "cell_type": "code",
   "execution_count": 1,
   "metadata": {},
   "outputs": [],
   "source": [
    "import mysql.connector\n",
    "\n",
    "mydb = mysql.connector.connect(\n",
    "    host=\"localhost\",\n",
    "    user=\"root\",\n",
    "    password=\"root123\"\n",
    ")\n",
    "\n",
    "cursor = mydb.cursor()\n",
    "cursor.execute(\"CREATE DATABASE RandomX\")\n",
    "# cursor.execute('use randomx;')"
   ]
  },
  {
   "cell_type": "code",
   "execution_count": 2,
   "metadata": {},
   "outputs": [],
   "source": [
    "import pandas as pd\n",
    "userdata = pd.read_excel('userdata.xls')\n",
    "movie_info = pd.read_excel('movie_info.xlsx')\n",
    "movie_reviews = pd.read_excel('movie_reviews.xls')"
   ]
  },
  {
   "cell_type": "code",
   "execution_count": 3,
   "metadata": {},
   "outputs": [],
   "source": [
    "cursor.execute('use randomx;')\n",
    "cursor.execute(''' CREATE TABLE userdata (name VARCHAR(20) PRIMARY KEY NOT NULL, \n",
    "                    geneder CHAR(1), age INT); ''')\n",
    "\n",
    "\n",
    "cursor.execute(''' CREATE TABLE movie_info (movie_id VARCHAR(255) PRIMARY KEY, \n",
    "            movie_title VARCHAR(255) NOT NULL, audience_rating NUMERIC(3, 2) ); ''')\n",
    "\n",
    "cursor.execute(''' CREATE TABLE movie_reviews (movie_id VARCHAR(255) NOT NULL, \n",
    "            user_name VARCHAR(20), review VARCHAR(300) NOT NULL,\n",
    "            FOREIGN KEY (movie_id) REFERENCES  movie_info(movie_id),\n",
    "            FOREIGN KEY (user_name) REFERENCES  userdata(name),\n",
    "            PRIMARY KEY(movie_id, user_name, review)\n",
    "            ); ''')"
   ]
  },
  {
   "cell_type": "code",
   "execution_count": 4,
   "metadata": {},
   "outputs": [],
   "source": [
    "for i in userdata.index:\n",
    "    cmd = ''' INSERT INTO userdata VALUES(%s, %s, %s) '''\n",
    "    val = (userdata['username'][i], userdata['gender'][i], str(userdata['age'][i]))\n",
    "    cursor.execute(cmd, val)\n",
    "\n",
    "for i in movie_info.index:\n",
    "    cmd = ''' INSERT INTO movie_info VALUES(%s, %s, %s)'''\n",
    "    val = (movie_info['movie_id'][i], movie_info['movie_title'][i], str(movie_info['audience_rating'][i]))\n",
    "    cursor.execute(cmd, val)\n",
    "    \n",
    "for i in movie_reviews.index:\n",
    "    cmd = ''' INSERT INTO movie_reviews VALUES(%s, %s, %s)'''\n",
    "    val = (movie_reviews['movie_id'][i], movie_reviews['user_name'][i], movie_reviews['movie_rev'][i])\n",
    "    cursor.execute(cmd, val)\n",
    "  \n",
    "mydb.commit()    "
   ]
  },
  {
   "cell_type": "code",
   "execution_count": 5,
   "metadata": {},
   "outputs": [],
   "source": [
    "f1 = open(\"negative-words.txt\", \"r\")\n",
    "f2 = open(\"positive-words.txt\", \"r\")\n",
    "for i in range(35):\n",
    "    f1.readline()\n",
    "    f2.readline()\n",
    "\n",
    "negative_words = f1.read().splitlines()\n",
    "positive_words = f2.read().splitlines()"
   ]
  },
  {
   "cell_type": "code",
   "execution_count": 6,
   "metadata": {},
   "outputs": [],
   "source": [
    "cursor.execute(\"ALTER TABLE movie_reviews ADD sentiment VARCHAR(12)\")\n",
    "mydb.commit()"
   ]
  },
  {
   "cell_type": "code",
   "execution_count": 7,
   "metadata": {},
   "outputs": [],
   "source": [
    "import re\n",
    "def sentiment(review):\n",
    "    review = review.lower()\n",
    "    review = re.sub('[^0-9a-z-*]', ' ', review)\n",
    "    review = review.split()\n",
    "    count_n, count_p = 0, 0\n",
    "    for  r in review:\n",
    "        if(r in negative_words):\n",
    "            count_n+=1\n",
    "        if(r in positive_words):\n",
    "            count_p += 1\n",
    "    if(count_p > count_n):\n",
    "        return \"positive\"\n",
    "    elif(count_n > count_p):\n",
    "        return \"negative\"\n",
    "    else:\n",
    "        return \"neutral\""
   ]
  },
  {
   "cell_type": "code",
   "execution_count": 8,
   "metadata": {},
   "outputs": [],
   "source": [
    "for i in movie_reviews.index:\n",
    "    cmd = \"select * from movie_reviews where sentiment is NULL limit 1;\"\n",
    "    cursor.execute(cmd)\n",
    "    x = cursor.fetchall()\n",
    "    movie_id = x[0][0]\n",
    "    user_name = x[0][1]\n",
    "    review = x[0][2]\n",
    "    senti = sentiment(review)\n",
    "    cmd = \"update movie_reviews set sentiment=%s where movie_id=%s and user_name=%s and review = %s;\" \n",
    "    cursor.execute(cmd, (senti, movie_id, user_name, review))\n",
    "    mydb.commit()"
   ]
  },
  {
   "cell_type": "code",
   "execution_count": 11,
   "metadata": {},
   "outputs": [
    {
     "name": "stdout",
     "output_type": "stream",
     "text": [
      "('The Lord of the Rings: The Fellowship of the Ring',)\n",
      "('Room',)\n",
      "('The Man Who Shot Liberty Valance',)\n",
      "('Duck Soup',)\n",
      "('Run Lola Run',)\n"
     ]
    }
   ],
   "source": [
    "cmd = ''' select movie_title as movie_name \n",
    "          from movie_info natural join movie_reviews \n",
    "          where audience_rating>3.5 and sentiment=\"positive\" \n",
    "          group by movie_id \n",
    "          having count(sentiment) >= 2 \n",
    "          order by audience_rating desc \n",
    "          limit 5; '''\n",
    "cursor.execute(cmd)\n",
    "x=cursor.fetchall()\n",
    "for foo in x:\n",
    "    print(foo)"
   ]
  },
  {
   "cell_type": "code",
   "execution_count": null,
   "metadata": {},
   "outputs": [],
   "source": []
  }
 ],
 "metadata": {
  "kernelspec": {
   "display_name": "Python 3",
   "language": "python",
   "name": "python3"
  },
  "language_info": {
   "codemirror_mode": {
    "name": "ipython",
    "version": 3
   },
   "file_extension": ".py",
   "mimetype": "text/x-python",
   "name": "python",
   "nbconvert_exporter": "python",
   "pygments_lexer": "ipython3",
   "version": "3.7.3"
  }
 },
 "nbformat": 4,
 "nbformat_minor": 2
}
